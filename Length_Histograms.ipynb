{
 "nbformat": 4,
 "nbformat_minor": 0,
 "metadata": {
  "colab": {
   "name": "Copy of Length Histograms.ipynb",
   "provenance": []
  },
  "kernelspec": {
   "name": "pycharm-9b51f223",
   "language": "python",
   "display_name": "PyCharm (Data Science Tasks)"
  },
  "language_info": {
   "name": "python"
  }
 },
 "cells": [
  {
   "cell_type": "markdown",
   "source": [
    "# LAION-5B Caption Length Statistics\n",
    "Create a histogram for the 3 subsets of LAION-5B. Data is stored [here](https://docs.google.com/spreadsheets/d/19AkcufyABAnbBlsr12VUmlR9oyQWb4uloAQnd-rqJC0/edit#gid=1638846878)! "
   ],
   "metadata": {
    "id": "0WN20s1AD0KT"
   }
  },
  {
   "cell_type": "code",
   "source": [
    "import pandas as pd\n",
    "import matplotlib.pyplot as plt\n",
    "import numpy as np\n",
    "from io import StringIO"
   ],
   "metadata": {
    "id": "ZMvLdRlPokE_"
   },
   "execution_count": 1,
   "outputs": []
  },
  {
   "cell_type": "code",
   "execution_count": null,
   "metadata": {
    "id": "guGu2ufGoRpE"
   },
   "outputs": [],
   "source": [
    "data = \"\"\"Dataset Length,Count\n",
    "0-25,318021548\n",
    "25-50,520010564\n",
    "50-100,409562937\n",
    "100-150,51502666\n",
    "150+,14829015\"\"\"\n",
    "nolang = pd.read_csv(StringIO(data))"
   ]
  },
  {
   "cell_type": "code",
   "source": [
    "df['Count'] = df['Count'] / sum(df['Count']) * 100"
   ],
   "metadata": {
    "id": "Sdp5JXTCpV-j"
   },
   "execution_count": null,
   "outputs": []
  },
  {
   "cell_type": "code",
   "source": [
    "plt.bar(df['Dataset Length'], df['Count'])"
   ],
   "metadata": {
    "colab": {
     "base_uri": "https://localhost:8080/",
     "height": 283
    },
    "id": "tR6AbYFitTNx",
    "outputId": "7d2cd645-b340-4739-afea-d7335fb0c2fd"
   },
   "execution_count": null,
   "outputs": [
    {
     "output_type": "execute_result",
     "data": {
      "text/plain": [
       "<BarContainer object of 5 artists>"
      ]
     },
     "metadata": {},
     "execution_count": 6
    },
    {
     "output_type": "display_data",
     "data": {
      "text/plain": [
       "<Figure size 432x288 with 1 Axes>"
      ],
      "image/png": "[encoded data removed]"
     },
     "metadata": {
      "needs_background": "light"
     }
    }
   ]
  },
  {
   "cell_type": "code",
   "source": [
    "# csv read\n",
    "df1B = pd.read_csv(r'C:\\Users\\Srivatsa\\PycharmProjects\\Skundurthy\\LAION-Viz\\laion5B - laion1B-nolang-text-length-ranges.csv')\n",
    "df2BE = pd.read_csv(r'C:\\Users\\Srivatsa\\PycharmProjects\\Skundurthy\\LAION-Viz\\laion5B - laion2B-en-text-length-ranges.csv')\n",
    "df2BM = pd.read_csv(r'C:\\Users\\Srivatsa\\PycharmProjects\\Skundurthy\\LAION-Viz\\laion5B - laion2B-multi-text-length-ranges.csv')"
   ],
   "metadata": {
    "id": "n4voZbClVKXA"
   },
   "execution_count": 6,
   "outputs": []
  },
  {
   "cell_type": "code",
   "source": [
    "# data\n",
    "x = ['0-25','25-50','50-100','100-150','150+']\n",
    "Y_1B = [int(elem) for elem in list(df1B['count'])]\n",
    "Y_2BE = [int(elem) for elem in list(df2BE['count'])]\n",
    "Y_2BM = [int(elem) for elem in list(df2BM['count'])]\n",
    "print(Y_1B)\n",
    "print(type(Y_1B[0]))"
   ],
   "metadata": {
    "id": "397DXml4tUsf",
    "colab": {
     "base_uri": "https://localhost:8080/"
    },
    "outputId": "03d76254-146c-4d7b-df58-f038b2e302be"
   },
   "execution_count": 7,
   "outputs": [
    {
     "name": "stdout",
     "output_type": "stream",
     "text": [
      "[318021548, 520010564, 409562937, 51502666, 14829015]\n",
      "<class 'int'>\n"
     ]
    }
   ]
  },
  {
   "cell_type": "code",
   "source": [
    "X_axis = np.arange(len(x))\n",
    "plt.bar(X_axis - .2, Y_1B, 0.2, label = 'LAION-1B')\n",
    "plt.bar(X_axis, Y_2BE, 0.2, label = 'LAION-2B-English')\n",
    "plt.bar(X_axis + .2, Y_2BM, 0.2, label = 'LAION-2B-Multi')\n",
    "\n",
    "plt.xticks(X_axis, x)\n",
    "plt.xlabel('Length Range of Caption')\n",
    "plt.ylabel('Number of Captions')\n",
    "plt.title('Number of Captions per Length Range in Subsets')\n",
    "plt.legend()\n",
    "#plt.show()\n",
    "plt.savefig('Captions.png')"
   ],
   "metadata": {
    "colab": {
     "base_uri": "https://localhost:8080/",
     "height": 312
    },
    "id": "Pa8a34jGV5l7",
    "outputId": "21568ab6-456e-463a-9138-71efab343bdd"
   },
   "execution_count": 10,
   "outputs": [
    {
     "data": {
      "text/plain": "<Figure size 432x288 with 1 Axes>",
      "image/png": "[encoded data removed]"
     },
     "metadata": {
      "needs_background": "light"
     },
     "output_type": "display_data"
    }
   ]
  }
 ]
}